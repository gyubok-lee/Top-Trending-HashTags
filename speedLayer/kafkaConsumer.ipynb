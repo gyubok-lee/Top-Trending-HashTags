{
 "cells": [
  {
   "cell_type": "code",
   "execution_count": null,
   "id": "b3bff44e",
   "metadata": {},
   "outputs": [],
   "source": [
    "from kafka import KafkaConsumer\n",
    "\n",
    "import json"
   ]
  },
  {
   "cell_type": "code",
   "execution_count": null,
   "id": "ec268d57",
   "metadata": {
    "scrolled": false
   },
   "outputs": [],
   "source": [
    "# Kafka Consumer\n",
    "bootstrap_servers = ['localhost:9092'] # kafka broker ip\n",
    "topic_name = 'tweets' # kafka topic name\n",
    "\n",
    "consumer = KafkaConsumer(topic_name, \n",
    "                         bootstrap_servers=bootstrap_servers, \n",
    "                         auto_offset_reset='latest',\n",
    "                         enable_auto_commit=True,\n",
    "                         group_id=None,\n",
    "                         value_deserializer=lambda x: x.decode('utf-8'), \n",
    "                         consumer_timeout_ms=3000)\n",
    "\n",
    "for message in consumer:\n",
    "    print (\"%s:%d:%d: key=%s value=%s\" % (message.topic, message.partition,\n",
    "                                          message.offset, message.key,\n",
    "                                          message.value))"
   ]
  }
 ],
 "metadata": {
  "kernelspec": {
   "display_name": "Python 3 (ipykernel)",
   "language": "python",
   "name": "python3"
  },
  "language_info": {
   "codemirror_mode": {
    "name": "ipython",
    "version": 3
   },
   "file_extension": ".py",
   "mimetype": "text/x-python",
   "name": "python",
   "nbconvert_exporter": "python",
   "pygments_lexer": "ipython3",
   "version": "3.8.12"
  },
  "toc": {
   "base_numbering": 1,
   "nav_menu": {},
   "number_sections": true,
   "sideBar": true,
   "skip_h1_title": false,
   "title_cell": "Table of Contents",
   "title_sidebar": "Contents",
   "toc_cell": false,
   "toc_position": {},
   "toc_section_display": true,
   "toc_window_display": false
  }
 },
 "nbformat": 4,
 "nbformat_minor": 5
}
