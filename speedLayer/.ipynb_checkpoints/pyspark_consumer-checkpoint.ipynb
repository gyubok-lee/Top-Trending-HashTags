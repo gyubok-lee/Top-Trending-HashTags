{
 "cells": [
  {
   "cell_type": "code",
   "execution_count": 1,
   "metadata": {},
   "outputs": [],
   "source": [
    "# findspark 우선 실행 / spark 버전은 무조건 2.4.6\n",
    "import findspark\n",
    "findspark.init('C:/Users/samsung/Documents/spark-2.4.6-bin-hadoop2.7')\n",
    "\n",
    "# Spark에 연결하기\n",
    "from pyspark import SparkConf,SparkContext\n",
    "from pyspark.streaming import StreamingContext\n",
    "from pyspark.streaming.kafka import KafkaUtils"
   ]
  },
  {
   "cell_type": "code",
   "execution_count": null,
   "metadata": {},
   "outputs": [],
   "source": [
    "if __name__==\"__main__\":\n",
    "    \n",
    "    conf = SparkConf()\n",
    "    conf.setAppName(\"TwitterStreamApp\") # Spark 실행 및 RDD 생성 기능\n",
    "    \n",
    "    # create spark context with the above configuration\n",
    "    sc = SparkContext(conf=conf) \n",
    "    ssc = StreamingContext(sc,5) # 5초 간격 배치로 스트리팅 데이터 가져오기\n",
    "    \n",
    "    # Kafka에서 가져오는 메시지형태로 이루어진 트윗 데이터를 TransformedDStream 타입으로 반환\n",
    "    message = KafkaUtils.createDirectStream(ssc, topics=[\"tweets\"],\n",
    "                kafkaParams={\"metadata.broker.list\":\"localhost:9092\"})"
   ]
  },
  {
   "cell_type": "code",
   "execution_count": null,
   "metadata": {},
   "outputs": [],
   "source": [
    "# 트윗데이터를 map으로 변형(transformation) 후 flatMap으로 각 트윗의 단어들 반환\n",
    "msg = message.map(lambda tweet: tweet[1]).flatMap(lambda x:x.split(\" \")).contains('#')\n",
    "\n",
    "msg.pprint()\n",
    "    \n",
    "ssc.start()  # 실제 스트리밍 app을 실행시키는 코드\n",
    "ssc.awaitTermination()  # 강제 종료 or stop()코드 발견 전까지 실행 유지"
   ]
  },
  {
   "cell_type": "markdown",
   "metadata": {},
   "source": [
    "## -------------------------------------------------------------------"
   ]
  },
  {
   "cell_type": "code",
   "execution_count": null,
   "metadata": {},
   "outputs": [],
   "source": [
    "def handle_rdd(rdd):\n",
    "    if not rdd.isEmpty() :\n",
    "        global ss"
   ]
  },
  {
   "cell_type": "code",
   "execution_count": 1,
   "metadata": {},
   "outputs": [],
   "source": [
    "message = message.map(lambda x: json.loads(x[1]))\n",
    "message = message.map(lambda x: json.loads(x))\n",
    "\n",
    "message = message.map(lambda tweet: (tweet['data']['text'],tweet['data']['id'],\n",
    "                                    tweet['data']['created_at']))\n",
    "message.foreachRDD(handle_rdd)\n",
    "message.pprint()\n",
    "    \n",
    "ssc.start()  # 실제 스트리밍 app을 실행시키는 코드\n",
    "ssc.awaitTermination()  # 강제 종료 or stop()코드 발견 전까지 실행 유지"
   ]
  },
  {
   "cell_type": "code",
   "execution_count": null,
   "metadata": {},
   "outputs": [],
   "source": []
  }
 ],
 "metadata": {
  "kernelspec": {
   "display_name": "Python 3",
   "language": "python",
   "name": "python3"
  },
  "language_info": {
   "codemirror_mode": {
    "name": "ipython",
    "version": 3
   },
   "file_extension": ".py",
   "mimetype": "text/x-python",
   "name": "python",
   "nbconvert_exporter": "python",
   "pygments_lexer": "ipython3",
   "version": "3.7.7"
  }
 },
 "nbformat": 4,
 "nbformat_minor": 4
}
