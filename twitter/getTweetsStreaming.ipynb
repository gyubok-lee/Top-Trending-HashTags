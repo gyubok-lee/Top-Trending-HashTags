{
 "cells": [
  {
   "cell_type": "code",
   "execution_count": null,
   "id": "91a65cce",
   "metadata": {},
   "outputs": [],
   "source": [
    "import tweepy\n",
    "from tweepy import OAuthHandler\n",
    "from tweepy import Stream\n",
    "\n",
    "import json\n",
    "\n",
    "import const"
   ]
  },
  {
   "cell_type": "code",
   "execution_count": null,
   "id": "7f80655c",
   "metadata": {},
   "outputs": [],
   "source": [
    "CONSUMER_KEY = const.CONSUMER_KEY\n",
    "CONSUMER_SECRET = const.CONSUMER_SECRET\n",
    "ACCESS_TOKEN = const.ACCESS_TOKEN\n",
    "ACCESS_SECRET = const.ACCESS_SECRET"
   ]
  },
  {
   "cell_type": "code",
   "execution_count": null,
   "id": "41812605",
   "metadata": {},
   "outputs": [],
   "source": [
    "class TweetsListener(Stream):\n",
    "    def on_data(self, data):\n",
    "        try:\n",
    "            msg = json.loads(data)\n",
    "            print(msg['text'])\n",
    "\n",
    "            # Kafka Producer로 전송\n",
    "        except BaseException as e:\n",
    "            print(f\"에러 발생: {str(e)}\")\n",
    "\n",
    "        return True\n",
    "    \n",
    "    def on_error(self, status):\n",
    "        print(status)\n",
    "        \n",
    "        return True"
   ]
  },
  {
   "cell_type": "code",
   "execution_count": null,
   "id": "34672488",
   "metadata": {},
   "outputs": [],
   "source": [
    "auth = OAuthHandler(CONSUMER_KEY, CONSUMER_SECRET)\n",
    "auth.set_access_token(ACCESS_TOKEN, ACCESS_SECRET)\n",
    "\n",
    "twitter_stream = TweetsListener(CONSUMER_KEY, CONSUMER_SECRET, ACCESS_TOKEN, ACCESS_SECRET)\n",
    "twitter_stream.filter(track=['bitcoin'])\n",
    "# twitter_stream.sample()"
   ]
  },
  {
   "cell_type": "code",
   "execution_count": null,
   "id": "8504974f",
   "metadata": {},
   "outputs": [],
   "source": []
  }
 ],
 "metadata": {
  "kernelspec": {
   "display_name": "Python 3 (ipykernel)",
   "language": "python",
   "name": "python3"
  },
  "language_info": {
   "codemirror_mode": {
    "name": "ipython",
    "version": 3
   },
   "file_extension": ".py",
   "mimetype": "text/x-python",
   "name": "python",
   "nbconvert_exporter": "python",
   "pygments_lexer": "ipython3",
   "version": "3.8.12"
  },
  "toc": {
   "base_numbering": 1,
   "nav_menu": {},
   "number_sections": true,
   "sideBar": true,
   "skip_h1_title": false,
   "title_cell": "Table of Contents",
   "title_sidebar": "Contents",
   "toc_cell": false,
   "toc_position": {},
   "toc_section_display": true,
   "toc_window_display": false
  }
 },
 "nbformat": 4,
 "nbformat_minor": 5
}
